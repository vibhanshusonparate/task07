{
 "cells": [
  {
   "cell_type": "code",
   "execution_count": null,
   "id": "0d1dcb8c",
   "metadata": {},
   "outputs": [],
   "source": []
  },
  {
   "cell_type": "code",
   "execution_count": 2,
   "id": "37d1eda9",
   "metadata": {},
   "outputs": [
    {
     "name": "stdout",
     "output_type": "stream",
     "text": [
      "sales_data.db created with table 'sales' and sample data.\n"
     ]
    }
   ],
   "source": [
    "import sqlite3\n",
    "\n",
    "# Connect to a SQLite database file (creates it if it doesn't exist)\n",
    "conn = sqlite3.connect('sales_data.db')\n",
    "cursor = conn.cursor()\n",
    "\n",
    "# Drop the table if it exists (optional clean start)\n",
    "cursor.execute('DROP TABLE IF EXISTS sales')\n",
    "\n",
    "# Create the 'sales' table\n",
    "cursor.execute('''\n",
    "    CREATE TABLE sales (\n",
    "        sale_id INTEGER PRIMARY KEY AUTOINCREMENT,\n",
    "        product_name TEXT NOT NULL,\n",
    "        quantity INTEGER NOT NULL,\n",
    "        price_per_unit REAL NOT NULL\n",
    "    )\n",
    "''')\n",
    "\n",
    "# Insert sample sales data\n",
    "sample_data = [\n",
    "    ('Choclate', 10, 20),\n",
    "    ('Ice Cream', 5, 30),\n",
    "    ('Candy', 20, 10),\n",
    "    ('Toffy', 7, 15),\n",
    "    ('Cookie', 12, 45),\n",
    "    ('Waffers', 5, 40)\n",
    "]\n",
    "cursor.executemany('INSERT INTO sales (product_name, quantity, price_per_unit) VALUES (?, ?, ?)', sample_data)\n",
    "\n",
    "# Commit and close\n",
    "conn.commit()\n",
    "conn.close()\n",
    "\n",
    "print(\"sales_data.db created with table 'sales' and sample data.\")\n"
   ]
  },
  {
   "cell_type": "code",
   "execution_count": 3,
   "id": "ab256b1b",
   "metadata": {},
   "outputs": [
    {
     "name": "stdout",
     "output_type": "stream",
     "text": [
      "Sample data from 'sales' table:\n",
      "(1, 'Choclate', 10, 20.0)\n",
      "(2, 'Ice Cream', 5, 30.0)\n",
      "(3, 'Candy', 20, 10.0)\n",
      "(4, 'Toffy', 7, 15.0)\n",
      "(5, 'Cookie', 12, 45.0)\n"
     ]
    }
   ],
   "source": [
    "import sqlite3\n",
    "\n",
    "# Load the existing SQLite database\n",
    "conn = sqlite3.connect(\"sales_data.db\")\n",
    "cursor = conn.cursor()\n",
    "\n",
    "# Example: Fetch the first 5 rows to verify connection\n",
    "cursor.execute(\"SELECT * FROM sales LIMIT 5\")\n",
    "rows = cursor.fetchall()\n",
    "\n",
    "# Print the results\n",
    "print(\"Sample data from 'sales' table:\")\n",
    "for row in rows:\n",
    "    print(row)\n",
    "\n",
    "# Always good practice to close the connection when done\n",
    "conn.close()\n"
   ]
  },
  {
   "cell_type": "code",
   "execution_count": 6,
   "id": "bfcbc045",
   "metadata": {},
   "outputs": [
    {
     "name": "stdout",
     "output_type": "stream",
     "text": [
      "Product Sales Summary:\n",
      "Candy: Total Qty = 20, Revenue = $200.00\n",
      "Choclate: Total Qty = 10, Revenue = $200.00\n",
      "Cookie: Total Qty = 12, Revenue = $540.00\n",
      "Ice Cream: Total Qty = 5, Revenue = $150.00\n",
      "Toffy: Total Qty = 7, Revenue = $105.00\n",
      "Waffers: Total Qty = 5, Revenue = $200.00\n"
     ]
    }
   ],
   "source": [
    "import sqlite3\n",
    "\n",
    "# Connect to the database\n",
    "conn = sqlite3.connect(\"sales_data.db\")\n",
    "cursor = conn.cursor()\n",
    "\n",
    "# Correct SQL query\n",
    "query = '''\n",
    "    SELECT product_name, \n",
    "           SUM(quantity) AS total_qty, \n",
    "           SUM(quantity * price_per_unit) AS revenue \n",
    "    FROM sales \n",
    "    GROUP BY product_name\n",
    "'''\n",
    "\n",
    "# Execute and fetch results\n",
    "cursor.execute(query)\n",
    "results = cursor.fetchall()\n",
    "\n",
    "# Print results\n",
    "print(\"Product Sales Summary:\")\n",
    "for row in results:\n",
    "    product, total_qty, revenue = row\n",
    "    print(f\"{product}: Total Qty = {total_qty}, Revenue = ${revenue:.2f}\")\n",
    "\n",
    "# Close connection\n",
    "conn.close()\n"
   ]
  },
  {
   "cell_type": "code",
   "execution_count": 7,
   "id": "141ba18c",
   "metadata": {},
   "outputs": [
    {
     "name": "stdout",
     "output_type": "stream",
     "text": [
      "  product_name  total_qty  revenue\n",
      "0        Candy         20    200.0\n",
      "1     Choclate         10    200.0\n",
      "2       Cookie         12    540.0\n",
      "3    Ice Cream          5    150.0\n",
      "4        Toffy          7    105.0\n",
      "5      Waffers          5    200.0\n"
     ]
    }
   ],
   "source": [
    "import sqlite3\n",
    "import pandas as pd\n",
    "\n",
    "# Connect to the SQLite database\n",
    "conn = sqlite3.connect(\"sales_data.db\")\n",
    "\n",
    "# Define the correct SQL query\n",
    "query = '''\n",
    "    SELECT product_name, \n",
    "           SUM(quantity) AS total_qty, \n",
    "           SUM(quantity * price_per_unit) AS revenue \n",
    "    FROM sales \n",
    "    GROUP BY product_name\n",
    "'''\n",
    "\n",
    "# Load query results into a DataFrame\n",
    "df = pd.read_sql_query(query, conn)\n",
    "\n",
    "# Close the connection (optional but good habit)\n",
    "conn.close()\n",
    "\n",
    "# Display the DataFrame\n",
    "print(df)\n"
   ]
  },
  {
   "cell_type": "code",
   "execution_count": 8,
   "id": "928d296f",
   "metadata": {},
   "outputs": [
    {
     "data": {
      "image/png": "[encoded data removed]",
      "text/plain": [
       "<Figure size 640x480 with 1 Axes>"
      ]
     },
     "metadata": {},
     "output_type": "display_data"
    }
   ],
   "source": [
    "import sqlite3\n",
    "import pandas as pd\n",
    "import matplotlib.pyplot as plt\n",
    "\n",
    "# Connect to the database\n",
    "conn = sqlite3.connect(\"sales_data.db\")\n",
    "\n",
    "# SQL query\n",
    "query = '''\n",
    "    SELECT product_name, \n",
    "           SUM(quantity) AS total_qty, \n",
    "           SUM(quantity * price_per_unit) AS revenue \n",
    "    FROM sales \n",
    "    GROUP BY product_name\n",
    "'''\n",
    "\n",
    "# Load query result into DataFrame\n",
    "df = pd.read_sql_query(query, conn)\n",
    "conn.close()\n",
    "\n",
    "# Plotting the bar chart\n",
    "df.plot(kind='bar', x='product_name', y='revenue', legend=False, color='skyblue', title='Revenue by Product')\n",
    "plt.ylabel('Revenue ($)')\n",
    "plt.xlabel('Product')\n",
    "plt.tight_layout()\n",
    "plt.show()\n"
   ]
  },
  {
   "cell_type": "code",
   "execution_count": 9,
   "id": "b0789950",
   "metadata": {},
   "outputs": [
    {
     "name": "stdout",
     "output_type": "stream",
     "text": [
      "Chart saved as 'sales_chart.png'\n"
     ]
    },
    {
     "data": {
      "text/plain": [
       "<Figure size 640x480 with 0 Axes>"
      ]
     },
     "metadata": {},
     "output_type": "display_data"
    }
   ],
   "source": [
    "plt.savefig(\"sales_chart.png\")\n",
    "print(\"Chart saved as 'sales_chart.png'\")"
   ]
  },
  {
   "cell_type": "code",
   "execution_count": null,
   "id": "34cf0ebd",
   "metadata": {},
   "outputs": [],
   "source": []
  }
 ],
 "metadata": {
  "kernelspec": {
   "display_name": "Python 3 (ipykernel)",
   "language": "python",
   "name": "python3"
  },
  "language_info": {
   "codemirror_mode": {
    "name": "ipython",
    "version": 3
   },
   "file_extension": ".py",
   "mimetype": "text/x-python",
   "name": "python",
   "nbconvert_exporter": "python",
   "pygments_lexer": "ipython3",
   "version": "3.11.4"
  }
 },
 "nbformat": 4,
 "nbformat_minor": 5
}
